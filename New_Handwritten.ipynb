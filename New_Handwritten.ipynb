{
 "cells": [
  {
   "cell_type": "code",
   "execution_count": 2,
   "id": "725090a1",
   "metadata": {},
   "outputs": [
    {
     "name": "stdout",
     "output_type": "stream",
     "text": [
      "^C\n"
     ]
    }
   ],
   "source": [
    "!pip install easyocr"
   ]
  },
  {
   "cell_type": "code",
   "execution_count": null,
   "id": "6cdf64c5",
   "metadata": {},
   "outputs": [],
   "source": [
    "import cv2\n",
    "import easyocr\n",
    "\n",
    "# Load the image\n",
    "image = cv2.imread('handwritten_text.jpg')\n",
    "\n",
    "# Initialize the EasyOCR reader with the model you prefer (e.g., 'en' for English)\n",
    "reader = easyocr.Reader(['en'])\n",
    "\n",
    "# Perform text recognition on the image\n",
    "results = reader.readtext(image)\n",
    "\n",
    "# Extract and print the recognized text\n",
    "for (bbox, text, prob) in results:\n",
    "    (top_left, top_right, bottom_right, bottom_left) = bbox\n",
    "    top_left = tuple(map(int, top_left))\n",
    "    bottom_right = tuple(map(int, bottom_right))\n",
    "    \n",
    "    # Draw a bounding box around the recognized text\n",
    "    cv2.rectangle(image, top_left, bottom_right, (0, 255, 0), 2)\n",
    "    \n",
    "    # Print the recognized text and its confidence score\n",
    "    print(f'Text: {text}, Confidence: {prob:.2f}')\n",
    "\n",
    "# Display the image with bounding boxes\n",
    "cv2.imshow('Handwritten Text Recognition', image)\n",
    "cv2.waitKey(0)\n",
    "cv2.destroyAllWindows()\n"
   ]
  }
 ],
 "metadata": {
  "kernelspec": {
   "display_name": "Python 3 (ipykernel)",
   "language": "python",
   "name": "python3"
  },
  "language_info": {
   "codemirror_mode": {
    "name": "ipython",
    "version": 3
   },
   "file_extension": ".py",
   "mimetype": "text/x-python",
   "name": "python",
   "nbconvert_exporter": "python",
   "pygments_lexer": "ipython3",
   "version": "3.11.4"
  }
 },
 "nbformat": 4,
 "nbformat_minor": 5
}
