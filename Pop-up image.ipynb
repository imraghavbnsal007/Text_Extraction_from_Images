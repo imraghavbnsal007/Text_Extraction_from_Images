{
 "cells": [
  {
   "cell_type": "code",
   "execution_count": 6,
   "id": "7699cc35",
   "metadata": {},
   "outputs": [
    {
     "name": "stdout",
     "output_type": "stream",
     "text": [
      "Requirement already satisfied: opencv-python in c:\\users\\abedi\\anaconda3\\lib\\site-packages (4.8.1.78)\n",
      "Requirement already satisfied: numpy>=1.21.2 in c:\\users\\abedi\\anaconda3\\lib\\site-packages (from opencv-python) (1.24.3)\n"
     ]
    }
   ],
   "source": [
    "!pip install opencv-python"
   ]
  },
  {
   "cell_type": "code",
   "execution_count": 7,
   "id": "c5fa8d6d",
   "metadata": {},
   "outputs": [],
   "source": [
    "import cv2\n",
    "import numpy as np\n",
    "import pytesseract"
   ]
  },
  {
   "cell_type": "code",
   "execution_count": 8,
   "id": "f816cb7f",
   "metadata": {},
   "outputs": [],
   "source": [
    "pytesseract.pytesseract.tesseract_cmd = r'C:\\Program Files\\Tesseract-OCR\\tesseract.exe'  # Update with your Tesseract path"
   ]
  },
  {
   "cell_type": "code",
   "execution_count": 68,
   "id": "9499c8f9",
   "metadata": {},
   "outputs": [],
   "source": [
    "# Load the image\n",
    "image = cv2.imread('Quotes.jpg')\n",
    "\n",
    "#resizing the image to significant percentage\n",
    "scale_percent = 40 # percent of original size\n",
    "width = int(image.shape[1] * scale_percent / 100)\n",
    "height = int(image.shape[0] * scale_percent / 100)\n",
    "dim = (width, height)\n",
    "  \n",
    "# resize image\n",
    "resized = cv2.resize(image, dim, interpolation = cv2.INTER_AREA)"
   ]
  },
  {
   "cell_type": "code",
   "execution_count": 77,
   "id": "5ca41fc3",
   "metadata": {},
   "outputs": [],
   "source": [
    "# Convert the image to grayscale\n",
    "gray = cv2.cvtColor(resized, cv2.COLOR_BGR2GRAY)\n",
    "\n",
    "# Enhance the blue text\n",
    "alpha = 1.0  # Keep contrast unchanged\n",
    "beta = 100   # Increase brightness\n",
    "\n",
    "# Apply the enhancement to the blue text\n",
    "enhanced_image = cv2.convertScaleAbs(gray, alpha=alpha, beta=beta)\n",
    "\n",
    "# Apply bilateral filtering to reduce noise\n",
    "denoised_image = cv2.bilateralFilter(enhanced_image, d=9, sigmaColor=75, sigmaSpace=75)\n",
    "\n",
    "# Threshold the image to make text pop\n",
    "_, thresholded = cv2.threshold(denoised_image, 0, 255, cv2.THRESH_BINARY + cv2.THRESH_OTSU)\n",
    "\n",
    "# Invert the image (optional)\n",
    "inverted = cv2.bitwise_not(thresholded)\n",
    "\n",
    "# Display the original and processed images\n",
    "cv2.imshow('Original Image', resized)\n",
    "cv2.imshow('Enhanced and Denoised Image', denoised_image)\n",
    "cv2.imshow('Text Popped Image', inverted)\n",
    "\n",
    "cv2.waitKey(0)\n",
    "cv2.destroyAllWindows()\n"
   ]
  },
  {
   "cell_type": "code",
   "execution_count": 71,
   "id": "779e727c",
   "metadata": {},
   "outputs": [],
   "source": [
    "# Recognize text using pytesseract with custom configuration\n",
    "custom_config = r'--psm 6 -c tessedit_char_whitelist=abcdefghijklmnopqrstuvwxyzABCDEFGHIJKLMNOPQRSTUVWXYZ0123456789,'"
   ]
  },
  {
   "cell_type": "code",
   "execution_count": 72,
   "id": "8561e377",
   "metadata": {},
   "outputs": [],
   "source": [
    "# Recognize text using pytesseract\n",
    "extracted_text = pytesseract.image_to_string(resized, config=custom_config)\n",
    "\n",
    "# Overlay the recognized text on the original image\n",
    "output_image = np.copy(resized)\n",
    "font = cv2.FONT_HERSHEY_SIMPLEX\n",
    "font_scale = 0.7  # Increase font size\n",
    "font_color = (255, 255, 255)\n",
    "font_thickness = 2\n",
    "position = (20, 50)  # Text position on the image"
   ]
  },
  {
   "cell_type": "code",
   "execution_count": 73,
   "id": "89810de4",
   "metadata": {},
   "outputs": [],
   "source": [
    "# Get the size of the text to draw a bounding box\n",
    "(text_width, text_height), baseline = cv2.getTextSize(extracted_text, font, font_scale, font_thickness)\n",
    "box_x = position[0] - 5\n",
    "box_y = position[1] - text_height - 5\n",
    "box_width = text_width + 10\n",
    "box_height = text_height + 10"
   ]
  },
  {
   "cell_type": "code",
   "execution_count": 74,
   "id": "7684f2c5",
   "metadata": {},
   "outputs": [
    {
     "data": {
      "text/plain": [
       "array([[[191, 205, 242],\n",
       "        [166, 181, 245],\n",
       "        [163, 185, 246],\n",
       "        ...,\n",
       "        [165, 183, 246],\n",
       "        [165, 183, 246],\n",
       "        [165, 183, 246]],\n",
       "\n",
       "       [[180, 192, 242],\n",
       "        [150, 164, 244],\n",
       "        [147, 167, 246],\n",
       "        ...,\n",
       "        [151, 168, 247],\n",
       "        [151, 168, 247],\n",
       "        [151, 168, 247]],\n",
       "\n",
       "       [[176, 189, 246],\n",
       "        [148, 162, 251],\n",
       "        [143, 164, 251],\n",
       "        ...,\n",
       "        [146, 164, 253],\n",
       "        [146, 164, 253],\n",
       "        [146, 164, 253]],\n",
       "\n",
       "       ...,\n",
       "\n",
       "       [[175, 192, 243],\n",
       "        [148, 164, 251],\n",
       "        [143, 166, 252],\n",
       "        ...,\n",
       "        [146, 165, 252],\n",
       "        [146, 165, 252],\n",
       "        [146, 165, 252]],\n",
       "\n",
       "       [[175, 193, 243],\n",
       "        [148, 165, 250],\n",
       "        [143, 167, 250],\n",
       "        ...,\n",
       "        [146, 167, 250],\n",
       "        [146, 167, 250],\n",
       "        [146, 167, 250]],\n",
       "\n",
       "       [[178, 195, 243],\n",
       "        [151, 166, 250],\n",
       "        [145, 168, 249],\n",
       "        ...,\n",
       "        [149, 169, 248],\n",
       "        [149, 169, 248],\n",
       "        [149, 169, 248]]], dtype=uint8)"
      ]
     },
     "execution_count": 74,
     "metadata": {},
     "output_type": "execute_result"
    }
   ],
   "source": [
    "# Draw a bounding box around the text\n",
    "cv2.rectangle(output_image, (box_x, box_y), (box_x + box_width, box_y + box_height), (0, 0, 255), -1)"
   ]
  },
  {
   "cell_type": "code",
   "execution_count": 75,
   "id": "77fc2d21",
   "metadata": {},
   "outputs": [
    {
     "name": "stdout",
     "output_type": "stream",
     "text": [
      "Youareenough\n",
      "justasyouare,\n",
      "MEGHANMARKLE RS\n",
      "\n"
     ]
    }
   ],
   "source": [
    "# Print the extracted text to the terminal\n",
    "print(extracted_text)"
   ]
  },
  {
   "cell_type": "code",
   "execution_count": 76,
   "id": "19911d4d",
   "metadata": {},
   "outputs": [
    {
     "data": {
      "text/plain": [
       "-1"
      ]
     },
     "execution_count": 76,
     "metadata": {},
     "output_type": "execute_result"
    }
   ],
   "source": [
    "cv2.putText(output_image, extracted_text, position, font, font_scale, font_color, font_thickness)\n",
    "\n",
    "# Display the resulting image with the overlaid text\n",
    "cv2.imshow('Image with Overlay', output_image)\n",
    "cv2.waitKey(0)\n",
    "cv2.destroyAllWindows()\n",
    "cv2.waitKey(1)"
   ]
  },
  {
   "cell_type": "code",
   "execution_count": null,
   "id": "94c5d437",
   "metadata": {},
   "outputs": [],
   "source": []
  }
 ],
 "metadata": {
  "kernelspec": {
   "display_name": "Python 3 (ipykernel)",
   "language": "python",
   "name": "python3"
  },
  "language_info": {
   "codemirror_mode": {
    "name": "ipython",
    "version": 3
   },
   "file_extension": ".py",
   "mimetype": "text/x-python",
   "name": "python",
   "nbconvert_exporter": "python",
   "pygments_lexer": "ipython3",
   "version": "3.11.4"
  }
 },
 "nbformat": 4,
 "nbformat_minor": 5
}
