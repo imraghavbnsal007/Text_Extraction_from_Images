{
 "cells": [
  {
   "cell_type": "markdown",
   "id": "ea91f07b",
   "metadata": {},
   "source": [
    "This is a python program to process handwritten text using python and Google Cloud Vision\n"
   ]
  },
  {
   "cell_type": "markdown",
   "id": "82e06bf4",
   "metadata": {},
   "source": [
    "Only Tesseract will not work for this project as Tesseract/ pyTesseract only converts digital data into fields. Here we are dealing with handwritten texts."
   ]
  },
  {
   "cell_type": "markdown",
   "id": "ec98ae54",
   "metadata": {},
   "source": [
    "We will use Handprint, a Python package to convert handwritten images into digital data which later can be saved to CSV data or a database. It also shows annoted images with the text recognized."
   ]
  },
  {
   "cell_type": "code",
   "execution_count": null,
   "id": "9d72fa71",
   "metadata": {},
   "outputs": [],
   "source": [
    "!pip install google-cloud-vision"
   ]
  },
  {
   "cell_type": "code",
   "execution_count": 1,
   "id": "290001e4",
   "metadata": {},
   "outputs": [],
   "source": [
    "import os\n",
    "import io\n",
    "import pandas as pd\n",
    "from google.cloud import vision_v1\n",
    "from google.cloud.vision_v1 import types"
   ]
  },
  {
   "cell_type": "code",
   "execution_count": 2,
   "id": "259bff3b",
   "metadata": {},
   "outputs": [],
   "source": [
    "os.environ['GOOGLE_APPLICATION_CREDENTIALS'] = r'service_key.json'"
   ]
  },
  {
   "cell_type": "code",
   "execution_count": 3,
   "id": "1d1294f3",
   "metadata": {},
   "outputs": [],
   "source": [
    "# Instantiates a client\n",
    "client = vision_v1.ImageAnnotatorClient()"
   ]
  },
  {
   "cell_type": "code",
   "execution_count": 20,
   "id": "0a69d4c9",
   "metadata": {},
   "outputs": [],
   "source": [
    "# FILE_NAME = 'test_1.jpg'\n",
    "# FOLDER_PATH = r'C:\\Users\\abedi\\Downloads\\College TU856 DT228\\Image_Processing_Practice'\n",
    "\n",
    "# with io.open(os.path.join(FOLDER_PATH, FILE_NAME), 'rb') as image_file:\n",
    "#     content = image_file.read()\n",
    "    \n",
    "# image = vision_v1.Image(content = content)\n",
    "\n",
    "# response = client.text_detection(image=image)\n",
    "# texts = response.text_annotations\n",
    "# print(\"Texts: \")\n",
    "\n",
    "# df = pd.DataFrame(columns=['locale', 'description'])\n",
    "# for text in texts:\n",
    "#     df = df.append(\n",
    "#         dict(\n",
    "#             locale = text.locale,\n",
    "#             description = text.description\n",
    "#         ),\n",
    "#         ignore_index=True\n",
    "#     )\n",
    "\n",
    "\n",
    "    "
   ]
  },
  {
   "cell_type": "code",
   "execution_count": 1,
   "id": "11ccf221",
   "metadata": {},
   "outputs": [],
   "source": [
    "from google.cloud import vision_v1\n",
    "from google.cloud.vision_v1 import types\n",
    "\n",
    "# Initialize the Google Cloud Vision client\n",
    "client = vision_v1.ImageAnnotatorClient()\n",
    "\n",
    "# Replace 'your-image.jpg' with the path to your image file\n",
    "image_path = 'test_9.jpeg'\n",
    "\n",
    "# Read the image file\n",
    "with open(image_path, 'rb') as image_file:\n",
    "    content = image_file.read()\n",
    "\n",
    "# Create a Vision API image object\n",
    "image = types.Image(content=content)\n",
    "\n",
    "# Perform text detection\n",
    "response = client.text_detection(image=image)\n",
    "\n",
    "# Extract text from the response\n",
    "detected_text = response.text_annotations[0].description\n",
    "\n",
    "# Print the detected text\n",
    "print(detected_text)\n",
    "\n",
    "# You can also save the detected text to a text file if desired\n",
    "with open('detected_text.txt', 'w', encoding='utf-8') as text_file:\n",
    "    text_file.write(detected_text)\n",
    "    \n"
   ]
  },
  {
   "cell_type": "code",
   "execution_count": 6,
   "id": "eed0bf84",
   "metadata": {},
   "outputs": [
    {
     "ename": "AttributeError",
     "evalue": "module 'google.cloud.vision_v1' has no attribute 'HandwritingDetectionConfig'",
     "output_type": "error",
     "traceback": [
      "\u001b[1;31m---------------------------------------------------------------------------\u001b[0m",
      "\u001b[1;31mAttributeError\u001b[0m                            Traceback (most recent call last)",
      "Cell \u001b[1;32mIn[6], line 19\u001b[0m\n\u001b[0;32m     15\u001b[0m image \u001b[38;5;241m=\u001b[39m types\u001b[38;5;241m.\u001b[39mImage(content\u001b[38;5;241m=\u001b[39mcontent)\n\u001b[0;32m     17\u001b[0m \u001b[38;5;66;03m# Enable handwriting detection in the request\u001b[39;00m\n\u001b[0;32m     18\u001b[0m image_context \u001b[38;5;241m=\u001b[39m vision_v1\u001b[38;5;241m.\u001b[39mImageContext(\n\u001b[1;32m---> 19\u001b[0m     handwriting_detection_config\u001b[38;5;241m=\u001b[39m\u001b[43mvision_v1\u001b[49m\u001b[38;5;241;43m.\u001b[39;49m\u001b[43mHandwritingDetectionConfig\u001b[49m(enable\u001b[38;5;241m=\u001b[39m\u001b[38;5;28;01mTrue\u001b[39;00m)\n\u001b[0;32m     20\u001b[0m )\n\u001b[0;32m     22\u001b[0m \u001b[38;5;66;03m# Perform handwriting detection\u001b[39;00m\n\u001b[0;32m     23\u001b[0m response \u001b[38;5;241m=\u001b[39m client\u001b[38;5;241m.\u001b[39mtext_detection(image\u001b[38;5;241m=\u001b[39mimage, image_context\u001b[38;5;241m=\u001b[39mimage_context)\n",
      "\u001b[1;31mAttributeError\u001b[0m: module 'google.cloud.vision_v1' has no attribute 'HandwritingDetectionConfig'"
     ]
    }
   ],
   "source": [
    "from google.cloud import vision_v1\n",
    "from google.cloud.vision_v1 import types\n",
    "\n",
    "# Initialize the Google Cloud Vision client\n",
    "client = vision_v1.ImageAnnotatorClient()\n",
    "\n",
    "# Replace 'your-image.jpg' with the path to your image file\n",
    "image_path = 'test_9.jpg'\n",
    "\n",
    "# Read the image file\n",
    "with open(image_path, 'rb') as image_file:\n",
    "    content = image_file.read()\n",
    "\n",
    "# Create a Vision API image object\n",
    "image = types.Image(content=content)\n",
    "\n",
    "# Enable handwriting detection in the request\n",
    "image_context = vision_v1.ImageContext(\n",
    "    handwriting_detection_config=vision_v1.HandwritingDetectionConfig(enable=True)\n",
    ")\n",
    "\n",
    "# Perform handwriting detection\n",
    "response = client.text_detection(image=image, image_context=image_context)\n",
    "\n",
    "# Extract handwritten text from the response\n",
    "handwritten_text = []\n",
    "for page in response.pages:\n",
    "    for block in page.blocks:\n",
    "        for paragraph in block.paragraphs:\n",
    "            for word in paragraph.words:\n",
    "                word_text = ''.join(symbol.text for symbol in word.symbols)\n",
    "                handwritten_text.append(word_text)\n",
    "\n",
    "# Print the detected handwritten text\n",
    "for text in handwritten_text:\n",
    "    print(text)\n",
    "\n",
    "# You can also save the detected text to a text file if desired\n",
    "with open('handwritten_text.txt', 'w', encoding='utf-8') as text_file:\n",
    "    for text in handwritten_text:\n",
    "        text_file.write(text + '\\n')\n"
   ]
  },
  {
   "cell_type": "code",
   "execution_count": 9,
   "id": "bbe2705a",
   "metadata": {},
   "outputs": [
    {
     "name": "stdout",
     "output_type": "stream",
     "text": [
      "time\n",
      "Once upon\n",
      "ghost. His name\n",
      "a\n",
      "there lived\n",
      "Vikram\n",
      "was\n"
     ]
    }
   ],
   "source": [
    "from google.cloud import vision_v1\n",
    "from google.cloud.vision_v1 import types\n",
    "\n",
    "# Initialize the Google Cloud Vision client\n",
    "client = vision_v1.ImageAnnotatorClient()\n",
    "\n",
    "# Replace 'your-image.jpg' with the path to your image file\n",
    "image_path = 'test_9.jpg'\n",
    "\n",
    "# Read the image file\n",
    "with open(image_path, 'rb') as image_file:\n",
    "    content = image_file.read()\n",
    "\n",
    "# Create a Vision API image object\n",
    "image = types.Image(content=content)\n",
    "\n",
    "# Perform text detection\n",
    "response = client.text_detection(image=image)\n",
    "\n",
    "# Extract text from the response\n",
    "detected_text = response.text_annotations[0].description\n",
    "\n",
    "# Print the detected text\n",
    "print(detected_text)\n",
    "\n",
    "# You can also save the detected text to a text file if desired\n",
    "with open('detected_text.txt', 'w', encoding='utf-8') as text_file:\n",
    "    text_file.write(detected_text)\n"
   ]
  },
  {
   "cell_type": "code",
   "execution_count": 13,
   "id": "f7843804",
   "metadata": {},
   "outputs": [
    {
     "name": "stdout",
     "output_type": "stream",
     "text": [
      "Base Data for Project is This Bhai , Kya hool hai hya , Sab Badhiya . । है दोस्त मेरा आसान । है राघव नाम मेरा\n"
     ]
    }
   ],
   "source": [
    "from google.cloud import vision_v1\n",
    "from google.cloud.vision_v1 import types\n",
    "\n",
    "# Initialize the Google Cloud Vision client\n",
    "client = vision_v1.ImageAnnotatorClient()\n",
    "\n",
    "# Replace 'your-image.jpg' with the path to your image file\n",
    "image_path = 'test_12.jpg'\n",
    "\n",
    "# Read the image file\n",
    "with open(image_path, 'rb') as image_file:\n",
    "    content = image_file.read()\n",
    "\n",
    "# Create a Vision API image object\n",
    "image = types.Image(content=content)\n",
    "\n",
    "# Perform text detection\n",
    "response = client.text_detection(image=image)\n",
    "\n",
    "# Extract and order text based on their positions\n",
    "text_annotations = response.text_annotations[1:]  # Skip the first element (full text)\n",
    "text_annotations.sort(key=lambda annotation: (\n",
    "    annotation.bounding_poly.vertices[0].y,\n",
    "    annotation.bounding_poly.vertices[0].x\n",
    "))\n",
    "\n",
    "# Extract text from the sorted annotations\n",
    "detected_text = ' '.join(annotation.description for annotation in text_annotations)\n",
    "\n",
    "# Print the ordered detected text\n",
    "print(detected_text)\n",
    "2\n",
    "# You can also save the ordered detected text to a text file if desired\n",
    "with open('ordered_detected_text.txt', 'w', encoding='utf-8') as text_file:\n",
    "    text_file.write(detected_text)\n"
   ]
  },
  {
   "cell_type": "code",
   "execution_count": 17,
   "id": "b49b7a9b",
   "metadata": {},
   "outputs": [
    {
     "name": "stdout",
     "output_type": "stream",
     "text": [
      "This Bhai मेरा , is नाम Kya Project hool hya राघव hai है । , आसान for Sab Data Badhiya मेरा Base दोस्त . है ।\n"
     ]
    }
   ],
   "source": [
    "#SOrting mechanism\n",
    "\n",
    "from google.cloud import vision_v1\n",
    "from google.cloud.vision_v1 import types\n",
    "\n",
    "# Initialize the Google Cloud Vision client\n",
    "client = vision_v1.ImageAnnotatorClient()\n",
    "\n",
    "# Replace 'your-image.jpg' with the path to your image file\n",
    "image_path = 'test_12.jpg'\n",
    "\n",
    "# Read the image file\n",
    "with open(image_path, 'rb') as image_file:\n",
    "    content = image_file.read()\n",
    "\n",
    "# Create a Vision API image object\n",
    "image = types.Image(content=content)\n",
    "\n",
    "# Perform text detection\n",
    "response = client.text_detection(image=image)\n",
    "\n",
    "# Extract and order text based on their positions from left to right\n",
    "# Skip the first element (full text) and sort the remaining text annotations\n",
    "text_annotations = response.text_annotations[1:]\n",
    "text_annotations.sort(key=lambda annotation: (\n",
    "    annotation.bounding_poly.vertices[0].x,  # Sort by top-left corner's x-coordinate (left to right)\n",
    "    annotation.bounding_poly.vertices[0].y   # Then by top-left corner's y-coordinate (top to bottom)\n",
    "))\n",
    "\n",
    "# Initialize a variable to store the ordered detected text\n",
    "ordered_detected_text = []\n",
    "\n",
    "# Extract text from the sorted annotations and store it\n",
    "for annotation in text_annotations:\n",
    "    ordered_detected_text.append(annotation.description)\n",
    "\n",
    "# Join the ordered text into a single string\n",
    "detected_text = ' '.join(ordered_detected_text)\n",
    "\n",
    "# Print the ordered detected text\n",
    "print(detected_text)\n",
    "\n",
    "# You can also save the ordered detected text to a text file if desired\n",
    "with open('ordered_detected_text.txt', 'w', encoding='utf-8') as text_file:\n",
    "    text_file.write(detected_text)\n"
   ]
  },
  {
   "cell_type": "code",
   "execution_count": 16,
   "id": "96973302",
   "metadata": {},
   "outputs": [
    {
     "name": "stdout",
     "output_type": "stream",
     "text": [
      "This Bhai मेरा , is नाम Kya Project hool hya राघव hai है । , आसान for Sab Data Badhiya मेरा Base दोस्त . है ।\n"
     ]
    }
   ],
   "source": [
    "#sorting left to right\n",
    "from google.cloud import vision_v1\n",
    "from google.cloud.vision_v1 import types\n",
    "\n",
    "# Initialize the Google Cloud Vision client\n",
    "client = vision_v1.ImageAnnotatorClient()\n",
    "\n",
    "# Replace 'your-image.jpg' with the path to your image file\n",
    "image_path = 'test_12.jpg'\n",
    "\n",
    "# Read the image file\n",
    "with open(image_path, 'rb') as image_file:\n",
    "    content = image_file.read()\n",
    "\n",
    "# Create a Vision API image object\n",
    "image = types.Image(content=content)\n",
    "\n",
    "# Perform text detection\n",
    "response = client.text_detection(image=image)\n",
    "\n",
    "# Extract text annotations and sort them from left to right\n",
    "text_annotations = response.text_annotations[1:]  # Skip the first element (full text)\n",
    "text_annotations.sort(key=lambda annotation: annotation.bounding_poly.vertices[0].x)\n",
    "\n",
    "# Initialize a variable to store the ordered detected text\n",
    "ordered_detected_text = []\n",
    "\n",
    "# Extract text from the sorted annotations and store it\n",
    "for annotation in text_annotations:\n",
    "    ordered_detected_text.append(annotation.description)\n",
    "\n",
    "# Join the ordered text into a single string\n",
    "detected_text = ' '.join(ordered_detected_text)\n",
    "\n",
    "# Print the ordered detected text\n",
    "print(detected_text)\n",
    "\n",
    "# You can also save the ordered detected text to a text file if desired\n",
    "with open('ordered_detected_text.txt', 'w', encoding='utf-8') as text_file:\n",
    "    text_file.write(detected_text)\n"
   ]
  },
  {
   "cell_type": "code",
   "execution_count": 24,
   "id": "dbdf4507",
   "metadata": {},
   "outputs": [
    {
     "name": "stdout",
     "output_type": "stream",
     "text": [
      "DATABASE\n",
      "FOR\n",
      "PROJECT\n",
      "IS\n",
      "THIS\n",
      "।\n",
      "है\n",
      "आयान\n",
      "नाम\n",
      "मेरा\n"
     ]
    }
   ],
   "source": [
    "from google.cloud import vision_v1\n",
    "from google.cloud.vision_v1 import types\n",
    "\n",
    "# Initialize the Google Cloud Vision client\n",
    "client = vision_v1.ImageAnnotatorClient()\n",
    "\n",
    "# Replace 'your-image.jpg' with the path to your image file\n",
    "image_path = 'test_13.jpg'\n",
    "\n",
    "# Read the image file\n",
    "with open(image_path, 'rb') as image_file:\n",
    "    content = image_file.read()\n",
    "\n",
    "# Create a Vision API image object\n",
    "image = types.Image(content=content)\n",
    "\n",
    "# Perform text detection\n",
    "response = client.text_detection(image=image)\n",
    "\n",
    "# Extract text annotations and sort them into lines\n",
    "text_annotations = response.text_annotations[1:]  # Skip the first element (full text)\n",
    "\n",
    "# Group text annotations into lines based on their y-coordinates\n",
    "lines = {}\n",
    "for annotation in text_annotations:\n",
    "    y = annotation.bounding_poly.vertices[0].y\n",
    "    if y in lines:\n",
    "        lines[y].append(annotation.description)\n",
    "    else:\n",
    "        lines[y] = [annotation.description]\n",
    "\n",
    "# Sort lines from top to bottom\n",
    "sorted_lines = sorted(lines.items(), key=lambda item: item[0])\n",
    "\n",
    "# Initialize a variable to store the ordered detected text\n",
    "ordered_detected_text = []\n",
    "\n",
    "# Extract text from the sorted lines and sort text within each line from left to right\n",
    "for _, line in sorted_lines:\n",
    "    line.sort(key=lambda text: text_annotations[0].bounding_poly.vertices[0].y)  # Sort within each line\n",
    "    ordered_detected_text.extend(line)\n",
    "\n",
    "# Join the ordered text into a single string\n",
    "detected_text = ' '.join(ordered_detected_text)\n",
    "\n",
    "# Print the ordered detected text line by line\n",
    "for line in sorted_lines:\n",
    "    print(' '.join(line[1]))  # Print each line\n",
    "\n",
    "# You can also save the ordered detected text to a text file if desired\n",
    "with open('ordered_detected_text.txt', 'w', encoding='utf-8') as text_file:\n",
    "    text_file.write(detected_text)\n"
   ]
  },
  {
   "cell_type": "code",
   "execution_count": null,
   "id": "6aeab516",
   "metadata": {},
   "outputs": [],
   "source": []
  }
 ],
 "metadata": {
  "kernelspec": {
   "display_name": "Python 3 (ipykernel)",
   "language": "python",
   "name": "python3"
  },
  "language_info": {
   "codemirror_mode": {
    "name": "ipython",
    "version": 3
   },
   "file_extension": ".py",
   "mimetype": "text/x-python",
   "name": "python",
   "nbconvert_exporter": "python",
   "pygments_lexer": "ipython3",
   "version": "3.11.4"
  }
 },
 "nbformat": 4,
 "nbformat_minor": 5
}
